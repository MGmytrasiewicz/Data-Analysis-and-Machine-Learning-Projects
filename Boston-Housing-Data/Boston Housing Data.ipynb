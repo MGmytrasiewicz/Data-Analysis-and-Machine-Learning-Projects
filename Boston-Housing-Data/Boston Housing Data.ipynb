{
 "cells": [
  {
   "cell_type": "markdown",
   "id": "a7b7c787-edcf-4ffb-846f-0f4db74332fb",
   "metadata": {},
   "source": [
    "# Project Case: Boston Housing Data"
   ]
  },
  {
   "cell_type": "markdown",
   "id": "269d1ebc-a065-4171-a77b-c399f11c9dd2",
   "metadata": {},
   "source": [
    "## Required libraries"
   ]
  },
  {
   "cell_type": "markdown",
   "id": "6700a677-300a-4863-afff-3dd20e58c67c",
   "metadata": {},
   "source": [
    "The libraries that we'll be using are:\n",
    "\n",
    "* **pandas:** Provides a DataFrame structure to store data in memory and work with it easily and efficiently.\n",
    "* **matplotlib:** Basic plotting library in Python; most other Python plotting libraries are built on top of it.\n",
    "* **Scipy stats:** Scipy module containing a large number of summary and frequency statistics, probability distributions, correlation functions and statistical tests.\n",
    "* **Statsmodels:** Python module that provides classes and functions for the estimation of many different statistical models, as well as for conducting statistical tests"
   ]
  },
  {
   "cell_type": "code",
   "execution_count": 1,
   "id": "4bea3471-ec20-4628-b9a7-3f08392fafe7",
   "metadata": {},
   "outputs": [],
   "source": [
    "import pandas as pd\n",
    "import matplotlib.pyplot as plt\n",
    "import scipy.stats\n",
    "import statsmodels.api as sm\n",
    "\n",
    "# This line tells the notebook to show plots inside of the notebook\n",
    "%matplotlib inline"
   ]
  },
  {
   "cell_type": "markdown",
   "id": "e6ea4287-5a50-48e9-bbc2-a652af3a3c25",
   "metadata": {},
   "source": [
    "## Task 1: Become familiar with the dataset"
   ]
  },
  {
   "cell_type": "markdown",
   "id": "148dbc4f-d2ed-481c-8f33-915b6a68fc24",
   "metadata": {},
   "source": [
    "### 1.1. Loading and checking the data"
   ]
  },
  {
   "cell_type": "markdown",
   "id": "ed687d54-46f4-4302-8795-a846e6a4a9fa",
   "metadata": {},
   "source": [
    "We create a new `DataFrame` by importing the CSV file:"
   ]
  },
  {
   "cell_type": "code",
   "execution_count": 2,
   "id": "c3203098-c529-4291-aad9-b2a538cb7995",
   "metadata": {},
   "outputs": [],
   "source": [
    "boston_url = 'https://cf-courses-data.s3.us.cloud-object-storage.appdomain.cloud/IBMDeveloperSkillsNetwork-ST0151EN-SkillsNetwork/labs/boston_housing.csv'\n",
    "boston_df=pd.read_csv(boston_url)"
   ]
  },
  {
   "cell_type": "markdown",
   "id": "107cd182-4239-4bfe-8ec8-5215b754590a",
   "metadata": {},
   "source": [
    "To verify the DataFrame has loaded correctly, we can run a `head()` command to display the first few records:"
   ]
  },
  {
   "cell_type": "code",
   "execution_count": 3,
   "id": "a5d53e3c-5deb-4f68-bdb3-080342302242",
   "metadata": {},
   "outputs": [
    {
     "data": {
      "text/html": [
       "<div>\n",
       "<style scoped>\n",
       "    .dataframe tbody tr th:only-of-type {\n",
       "        vertical-align: middle;\n",
       "    }\n",
       "\n",
       "    .dataframe tbody tr th {\n",
       "        vertical-align: top;\n",
       "    }\n",
       "\n",
       "    .dataframe thead th {\n",
       "        text-align: right;\n",
       "    }\n",
       "</style>\n",
       "<table border=\"1\" class=\"dataframe\">\n",
       "  <thead>\n",
       "    <tr style=\"text-align: right;\">\n",
       "      <th></th>\n",
       "      <th>Unnamed: 0</th>\n",
       "      <th>CRIM</th>\n",
       "      <th>ZN</th>\n",
       "      <th>INDUS</th>\n",
       "      <th>CHAS</th>\n",
       "      <th>NOX</th>\n",
       "      <th>RM</th>\n",
       "      <th>AGE</th>\n",
       "      <th>DIS</th>\n",
       "      <th>RAD</th>\n",
       "      <th>TAX</th>\n",
       "      <th>PTRATIO</th>\n",
       "      <th>LSTAT</th>\n",
       "      <th>MEDV</th>\n",
       "    </tr>\n",
       "  </thead>\n",
       "  <tbody>\n",
       "    <tr>\n",
       "      <th>0</th>\n",
       "      <td>0</td>\n",
       "      <td>0.00632</td>\n",
       "      <td>18.0</td>\n",
       "      <td>2.31</td>\n",
       "      <td>0.0</td>\n",
       "      <td>0.538</td>\n",
       "      <td>6.575</td>\n",
       "      <td>65.2</td>\n",
       "      <td>4.0900</td>\n",
       "      <td>1.0</td>\n",
       "      <td>296.0</td>\n",
       "      <td>15.3</td>\n",
       "      <td>4.98</td>\n",
       "      <td>24.0</td>\n",
       "    </tr>\n",
       "    <tr>\n",
       "      <th>1</th>\n",
       "      <td>1</td>\n",
       "      <td>0.02731</td>\n",
       "      <td>0.0</td>\n",
       "      <td>7.07</td>\n",
       "      <td>0.0</td>\n",
       "      <td>0.469</td>\n",
       "      <td>6.421</td>\n",
       "      <td>78.9</td>\n",
       "      <td>4.9671</td>\n",
       "      <td>2.0</td>\n",
       "      <td>242.0</td>\n",
       "      <td>17.8</td>\n",
       "      <td>9.14</td>\n",
       "      <td>21.6</td>\n",
       "    </tr>\n",
       "    <tr>\n",
       "      <th>2</th>\n",
       "      <td>2</td>\n",
       "      <td>0.02729</td>\n",
       "      <td>0.0</td>\n",
       "      <td>7.07</td>\n",
       "      <td>0.0</td>\n",
       "      <td>0.469</td>\n",
       "      <td>7.185</td>\n",
       "      <td>61.1</td>\n",
       "      <td>4.9671</td>\n",
       "      <td>2.0</td>\n",
       "      <td>242.0</td>\n",
       "      <td>17.8</td>\n",
       "      <td>4.03</td>\n",
       "      <td>34.7</td>\n",
       "    </tr>\n",
       "    <tr>\n",
       "      <th>3</th>\n",
       "      <td>3</td>\n",
       "      <td>0.03237</td>\n",
       "      <td>0.0</td>\n",
       "      <td>2.18</td>\n",
       "      <td>0.0</td>\n",
       "      <td>0.458</td>\n",
       "      <td>6.998</td>\n",
       "      <td>45.8</td>\n",
       "      <td>6.0622</td>\n",
       "      <td>3.0</td>\n",
       "      <td>222.0</td>\n",
       "      <td>18.7</td>\n",
       "      <td>2.94</td>\n",
       "      <td>33.4</td>\n",
       "    </tr>\n",
       "    <tr>\n",
       "      <th>4</th>\n",
       "      <td>4</td>\n",
       "      <td>0.06905</td>\n",
       "      <td>0.0</td>\n",
       "      <td>2.18</td>\n",
       "      <td>0.0</td>\n",
       "      <td>0.458</td>\n",
       "      <td>7.147</td>\n",
       "      <td>54.2</td>\n",
       "      <td>6.0622</td>\n",
       "      <td>3.0</td>\n",
       "      <td>222.0</td>\n",
       "      <td>18.7</td>\n",
       "      <td>5.33</td>\n",
       "      <td>36.2</td>\n",
       "    </tr>\n",
       "  </tbody>\n",
       "</table>\n",
       "</div>"
      ],
      "text/plain": [
       "   Unnamed: 0     CRIM    ZN  INDUS  CHAS    NOX     RM   AGE     DIS  RAD  \\\n",
       "0           0  0.00632  18.0   2.31   0.0  0.538  6.575  65.2  4.0900  1.0   \n",
       "1           1  0.02731   0.0   7.07   0.0  0.469  6.421  78.9  4.9671  2.0   \n",
       "2           2  0.02729   0.0   7.07   0.0  0.469  7.185  61.1  4.9671  2.0   \n",
       "3           3  0.03237   0.0   2.18   0.0  0.458  6.998  45.8  6.0622  3.0   \n",
       "4           4  0.06905   0.0   2.18   0.0  0.458  7.147  54.2  6.0622  3.0   \n",
       "\n",
       "     TAX  PTRATIO  LSTAT  MEDV  \n",
       "0  296.0     15.3   4.98  24.0  \n",
       "1  242.0     17.8   9.14  21.6  \n",
       "2  242.0     17.8   4.03  34.7  \n",
       "3  222.0     18.7   2.94  33.4  \n",
       "4  222.0     18.7   5.33  36.2  "
      ]
     },
     "execution_count": 3,
     "metadata": {},
     "output_type": "execute_result"
    }
   ],
   "source": [
    "boston_df.head()"
   ]
  },
  {
   "cell_type": "markdown",
   "id": "2d70211a-7a36-46bb-aa9c-aa23bd471875",
   "metadata": {},
   "source": [
    "We remove 'Unnamed:0' column:"
   ]
  },
  {
   "cell_type": "code",
   "execution_count": 4,
   "id": "154228c8-9f1f-4e37-9368-076c6aa5d79f",
   "metadata": {},
   "outputs": [],
   "source": [
    "boston_df.drop('Unnamed: 0', axis=1, inplace=True)"
   ]
  },
  {
   "cell_type": "markdown",
   "id": "6ceec5a4-cd61-47bd-910d-5b81d1d25dad",
   "metadata": {},
   "source": [
    "We can explore Pandas `shape` attribute to check dimensions of the DataFrame:"
   ]
  },
  {
   "cell_type": "code",
   "execution_count": 5,
   "id": "c4e5a0a3-3143-483f-9fcc-05e95dae5a8c",
   "metadata": {},
   "outputs": [
    {
     "data": {
      "text/plain": [
       "(506, 13)"
      ]
     },
     "execution_count": 5,
     "metadata": {},
     "output_type": "execute_result"
    }
   ],
   "source": [
    "boston_df.shape"
   ]
  },
  {
   "cell_type": "markdown",
   "id": "0b237cfa-8c8b-4d1d-a539-152a5bc03554",
   "metadata": {},
   "source": [
    "Our DataFrame consists of 13 variables and 506 records. Everything seems ok, we can investigate our dataset further."
   ]
  },
  {
   "cell_type": "markdown",
   "id": "aa8c8e71-1d5d-42b3-8e5f-bbdf20e7946e",
   "metadata": {},
   "source": [
    "### 1.2 Investigate the dataset"
   ]
  },
  {
   "cell_type": "markdown",
   "id": "19e5ae02-cf0c-4a5b-bcf3-02f7df1a87ef",
   "metadata": {},
   "source": [
    "We can run `info()` method to get basic information about the dataset:"
   ]
  },
  {
   "cell_type": "code",
   "execution_count": 6,
   "id": "9ed69301-e872-415b-8a06-75b70dbf895d",
   "metadata": {},
   "outputs": [
    {
     "name": "stdout",
     "output_type": "stream",
     "text": [
      "<class 'pandas.core.frame.DataFrame'>\n",
      "RangeIndex: 506 entries, 0 to 505\n",
      "Data columns (total 13 columns):\n",
      " #   Column   Non-Null Count  Dtype  \n",
      "---  ------   --------------  -----  \n",
      " 0   CRIM     506 non-null    float64\n",
      " 1   ZN       506 non-null    float64\n",
      " 2   INDUS    506 non-null    float64\n",
      " 3   CHAS     506 non-null    float64\n",
      " 4   NOX      506 non-null    float64\n",
      " 5   RM       506 non-null    float64\n",
      " 6   AGE      506 non-null    float64\n",
      " 7   DIS      506 non-null    float64\n",
      " 8   RAD      506 non-null    float64\n",
      " 9   TAX      506 non-null    float64\n",
      " 10  PTRATIO  506 non-null    float64\n",
      " 11  LSTAT    506 non-null    float64\n",
      " 12  MEDV     506 non-null    float64\n",
      "dtypes: float64(13)\n",
      "memory usage: 51.5 KB\n"
     ]
    }
   ],
   "source": [
    "boston_df.info()"
   ]
  },
  {
   "cell_type": "markdown",
   "id": "e53ad853-6923-4e0d-93af-c69eedbd8195",
   "metadata": {},
   "source": [
    "All 13 variables are `float` data type with no NAs. We could change 'CHAS' data type to `int` data type to save some memory however will skip this step for the purpose of this excercise."
   ]
  },
  {
   "cell_type": "markdown",
   "id": "14acbccb-7c54-49ba-a7cf-7c454e8c597c",
   "metadata": {},
   "source": [
    "We can run `describe()` method to generate descriptive statistics of the data in the DataFrame:"
   ]
  },
  {
   "cell_type": "code",
   "execution_count": 7,
   "id": "d802605c-b7b8-413a-915a-56ff49a71ce4",
   "metadata": {
    "scrolled": true
   },
   "outputs": [
    {
     "data": {
      "text/html": [
       "<div>\n",
       "<style scoped>\n",
       "    .dataframe tbody tr th:only-of-type {\n",
       "        vertical-align: middle;\n",
       "    }\n",
       "\n",
       "    .dataframe tbody tr th {\n",
       "        vertical-align: top;\n",
       "    }\n",
       "\n",
       "    .dataframe thead th {\n",
       "        text-align: right;\n",
       "    }\n",
       "</style>\n",
       "<table border=\"1\" class=\"dataframe\">\n",
       "  <thead>\n",
       "    <tr style=\"text-align: right;\">\n",
       "      <th></th>\n",
       "      <th>CRIM</th>\n",
       "      <th>ZN</th>\n",
       "      <th>INDUS</th>\n",
       "      <th>CHAS</th>\n",
       "      <th>NOX</th>\n",
       "      <th>RM</th>\n",
       "      <th>AGE</th>\n",
       "      <th>DIS</th>\n",
       "      <th>RAD</th>\n",
       "      <th>TAX</th>\n",
       "      <th>PTRATIO</th>\n",
       "      <th>LSTAT</th>\n",
       "      <th>MEDV</th>\n",
       "    </tr>\n",
       "  </thead>\n",
       "  <tbody>\n",
       "    <tr>\n",
       "      <th>count</th>\n",
       "      <td>506.000000</td>\n",
       "      <td>506.000000</td>\n",
       "      <td>506.000000</td>\n",
       "      <td>506.000000</td>\n",
       "      <td>506.000000</td>\n",
       "      <td>506.000000</td>\n",
       "      <td>506.000000</td>\n",
       "      <td>506.000000</td>\n",
       "      <td>506.000000</td>\n",
       "      <td>506.000000</td>\n",
       "      <td>506.000000</td>\n",
       "      <td>506.000000</td>\n",
       "      <td>506.000000</td>\n",
       "    </tr>\n",
       "    <tr>\n",
       "      <th>mean</th>\n",
       "      <td>3.613524</td>\n",
       "      <td>11.363636</td>\n",
       "      <td>11.136779</td>\n",
       "      <td>0.069170</td>\n",
       "      <td>0.554695</td>\n",
       "      <td>6.284634</td>\n",
       "      <td>68.574901</td>\n",
       "      <td>3.795043</td>\n",
       "      <td>9.549407</td>\n",
       "      <td>408.237154</td>\n",
       "      <td>18.455534</td>\n",
       "      <td>12.653063</td>\n",
       "      <td>22.532806</td>\n",
       "    </tr>\n",
       "    <tr>\n",
       "      <th>std</th>\n",
       "      <td>8.601545</td>\n",
       "      <td>23.322453</td>\n",
       "      <td>6.860353</td>\n",
       "      <td>0.253994</td>\n",
       "      <td>0.115878</td>\n",
       "      <td>0.702617</td>\n",
       "      <td>28.148861</td>\n",
       "      <td>2.105710</td>\n",
       "      <td>8.707259</td>\n",
       "      <td>168.537116</td>\n",
       "      <td>2.164946</td>\n",
       "      <td>7.141062</td>\n",
       "      <td>9.197104</td>\n",
       "    </tr>\n",
       "    <tr>\n",
       "      <th>min</th>\n",
       "      <td>0.006320</td>\n",
       "      <td>0.000000</td>\n",
       "      <td>0.460000</td>\n",
       "      <td>0.000000</td>\n",
       "      <td>0.385000</td>\n",
       "      <td>3.561000</td>\n",
       "      <td>2.900000</td>\n",
       "      <td>1.129600</td>\n",
       "      <td>1.000000</td>\n",
       "      <td>187.000000</td>\n",
       "      <td>12.600000</td>\n",
       "      <td>1.730000</td>\n",
       "      <td>5.000000</td>\n",
       "    </tr>\n",
       "    <tr>\n",
       "      <th>25%</th>\n",
       "      <td>0.082045</td>\n",
       "      <td>0.000000</td>\n",
       "      <td>5.190000</td>\n",
       "      <td>0.000000</td>\n",
       "      <td>0.449000</td>\n",
       "      <td>5.885500</td>\n",
       "      <td>45.025000</td>\n",
       "      <td>2.100175</td>\n",
       "      <td>4.000000</td>\n",
       "      <td>279.000000</td>\n",
       "      <td>17.400000</td>\n",
       "      <td>6.950000</td>\n",
       "      <td>17.025000</td>\n",
       "    </tr>\n",
       "    <tr>\n",
       "      <th>50%</th>\n",
       "      <td>0.256510</td>\n",
       "      <td>0.000000</td>\n",
       "      <td>9.690000</td>\n",
       "      <td>0.000000</td>\n",
       "      <td>0.538000</td>\n",
       "      <td>6.208500</td>\n",
       "      <td>77.500000</td>\n",
       "      <td>3.207450</td>\n",
       "      <td>5.000000</td>\n",
       "      <td>330.000000</td>\n",
       "      <td>19.050000</td>\n",
       "      <td>11.360000</td>\n",
       "      <td>21.200000</td>\n",
       "    </tr>\n",
       "    <tr>\n",
       "      <th>75%</th>\n",
       "      <td>3.677083</td>\n",
       "      <td>12.500000</td>\n",
       "      <td>18.100000</td>\n",
       "      <td>0.000000</td>\n",
       "      <td>0.624000</td>\n",
       "      <td>6.623500</td>\n",
       "      <td>94.075000</td>\n",
       "      <td>5.188425</td>\n",
       "      <td>24.000000</td>\n",
       "      <td>666.000000</td>\n",
       "      <td>20.200000</td>\n",
       "      <td>16.955000</td>\n",
       "      <td>25.000000</td>\n",
       "    </tr>\n",
       "    <tr>\n",
       "      <th>max</th>\n",
       "      <td>88.976200</td>\n",
       "      <td>100.000000</td>\n",
       "      <td>27.740000</td>\n",
       "      <td>1.000000</td>\n",
       "      <td>0.871000</td>\n",
       "      <td>8.780000</td>\n",
       "      <td>100.000000</td>\n",
       "      <td>12.126500</td>\n",
       "      <td>24.000000</td>\n",
       "      <td>711.000000</td>\n",
       "      <td>22.000000</td>\n",
       "      <td>37.970000</td>\n",
       "      <td>50.000000</td>\n",
       "    </tr>\n",
       "  </tbody>\n",
       "</table>\n",
       "</div>"
      ],
      "text/plain": [
       "             CRIM          ZN       INDUS        CHAS         NOX          RM  \\\n",
       "count  506.000000  506.000000  506.000000  506.000000  506.000000  506.000000   \n",
       "mean     3.613524   11.363636   11.136779    0.069170    0.554695    6.284634   \n",
       "std      8.601545   23.322453    6.860353    0.253994    0.115878    0.702617   \n",
       "min      0.006320    0.000000    0.460000    0.000000    0.385000    3.561000   \n",
       "25%      0.082045    0.000000    5.190000    0.000000    0.449000    5.885500   \n",
       "50%      0.256510    0.000000    9.690000    0.000000    0.538000    6.208500   \n",
       "75%      3.677083   12.500000   18.100000    0.000000    0.624000    6.623500   \n",
       "max     88.976200  100.000000   27.740000    1.000000    0.871000    8.780000   \n",
       "\n",
       "              AGE         DIS         RAD         TAX     PTRATIO       LSTAT  \\\n",
       "count  506.000000  506.000000  506.000000  506.000000  506.000000  506.000000   \n",
       "mean    68.574901    3.795043    9.549407  408.237154   18.455534   12.653063   \n",
       "std     28.148861    2.105710    8.707259  168.537116    2.164946    7.141062   \n",
       "min      2.900000    1.129600    1.000000  187.000000   12.600000    1.730000   \n",
       "25%     45.025000    2.100175    4.000000  279.000000   17.400000    6.950000   \n",
       "50%     77.500000    3.207450    5.000000  330.000000   19.050000   11.360000   \n",
       "75%     94.075000    5.188425   24.000000  666.000000   20.200000   16.955000   \n",
       "max    100.000000   12.126500   24.000000  711.000000   22.000000   37.970000   \n",
       "\n",
       "             MEDV  \n",
       "count  506.000000  \n",
       "mean    22.532806  \n",
       "std      9.197104  \n",
       "min      5.000000  \n",
       "25%     17.025000  \n",
       "50%     21.200000  \n",
       "75%     25.000000  \n",
       "max     50.000000  "
      ]
     },
     "execution_count": 7,
     "metadata": {},
     "output_type": "execute_result"
    }
   ],
   "source": [
    "boston_df.describe()"
   ]
  },
  {
   "cell_type": "markdown",
   "id": "d1e68e6f-b58d-450a-81af-c27bcff21c4b",
   "metadata": {},
   "source": [
    "## Task 2: Generate Descriptive Statistics and Visualizations"
   ]
  },
  {
   "cell_type": "markdown",
   "id": "d72ce2af-6d9d-42ee-a1bc-e2fb4506043b",
   "metadata": {},
   "source": [
    "### 2.1. For the \"Median value of owner-occupied homes\" provide a **boxplot**"
   ]
  },
  {
   "cell_type": "code",
   "execution_count": 8,
   "id": "63ffc64f-6478-4f83-98e7-04812ffd6291",
   "metadata": {},
   "outputs": [
    {
     "data": {
      "image/png": "[encoded data removed]",
      "text/plain": [
       "<Figure size 1000x500 with 1 Axes>"
      ]
     },
     "metadata": {},
     "output_type": "display_data"
    }
   ],
   "source": [
    "fig = plt.figure(figsize =(10, 5))\n",
    "plt.boxplot(boston_df['MEDV']\n",
    "            , boxprops=dict(color='blue')\n",
    "            , whiskerprops=dict(color='red')\n",
    "            , capprops=dict(color='green')\n",
    "            , medianprops=dict(color='orange')\n",
    "            , flierprops=dict(markerfacecolor='red'\n",
    "            , marker='o'))\n",
    "plt.xlabel('Median Value of Owner Occupied Homes')\n",
    "plt.ylabel('$1000s')\n",
    "plt.suptitle('Median value of owner-occupied homes', size=15)\n",
    "plt.title('Boxplot')\n",
    "plt.show()"
   ]
  },
  {
   "cell_type": "markdown",
   "id": "a484416a-7b96-4632-bda4-7c9ffcb6b76c",
   "metadata": {},
   "source": [
    "**Explanation:** Median value of owner occupied homes is around \\\\$21,000 with highest value at around \\\\$50,000 and lowest value at around \\\\$5,000. 1st quartile is around \\\\$17,000 and 3rd quartile at around \\\\$25,000. The distribution of median value of owner occupied homes is positively skewed."
   ]
  },
  {
   "cell_type": "markdown",
   "id": "b8f01085-93a6-41e8-bbc4-8d4b1a1683d5",
   "metadata": {},
   "source": [
    "### 2.2. Provide a **bar plot** for the Charles river variable"
   ]
  },
  {
   "cell_type": "code",
   "execution_count": 9,
   "id": "6efeeec2-8883-4173-8f69-6964b7f75424",
   "metadata": {},
   "outputs": [],
   "source": [
    "counts = boston_df['CHAS'].value_counts()"
   ]
  },
  {
   "cell_type": "code",
   "execution_count": 10,
   "id": "204f47c3-6c3b-409e-bf07-a0cb7e15b86e",
   "metadata": {},
   "outputs": [
    {
     "data": {
      "image/png": "[encoded data removed]",
      "text/plain": [
       "<Figure size 1000x500 with 1 Axes>"
      ]
     },
     "metadata": {},
     "output_type": "display_data"
    }
   ],
   "source": [
    "counts.plot(kind=\"bar\", figsize=(10,5), color=['lightgreen', 'lightblue'])\n",
    "plt.grid(axis='y', which='both', color='lightgrey', linestyle='--')\n",
    "plt.suptitle('Charles River Bounding', size=15)\n",
    "plt.title('Barplot')\n",
    "plt.xlabel('Charles River Dummy Variable (1.0 if tract bounds river; 0.0 otherwise)')\n",
    "plt.ylabel('Frequency')\n",
    "plt.show()"
   ]
  },
  {
   "cell_type": "markdown",
   "id": "8b4de816-e931-4a57-b40a-d98fdceed134",
   "metadata": {},
   "source": [
    "**Explanation:** Majority of entries do not bounds Charles river."
   ]
  },
  {
   "cell_type": "markdown",
   "id": "58b6c921-102a-4cfa-9904-05d993704ee4",
   "metadata": {},
   "source": [
    "### 2.3. Provide a **boxplot** for the MEDV variable vs the AGE variable. (Discretize the age variable into three groups of 35 years and younger, between 35 and 70 years and 70 years and older)"
   ]
  },
  {
   "cell_type": "markdown",
   "id": "d9ad4eab-dae5-46de-96d9-ab4e71f23407",
   "metadata": {},
   "source": [
    "First, we discretize the AGE variable into 3 buckets:"
   ]
  },
  {
   "cell_type": "code",
   "execution_count": 11,
   "id": "4e1761f1-d88b-4b5e-948f-30ffc6e85df2",
   "metadata": {},
   "outputs": [],
   "source": [
    "boston_df.loc[(boston_df['AGE'] <= 35), 'age_group'] = '35 years and younger'\n",
    "boston_df.loc[(boston_df['AGE'] > 35)&(boston_df['AGE'] < 70), 'age_group'] = 'between 35 and 70 years'\n",
    "boston_df.loc[(boston_df['AGE'] >= 70), 'age_group'] = '70 years and older'\n",
    "\n",
    "age_group_1 = boston_df[boston_df['age_group'] == '35 years and younger']['MEDV']\n",
    "age_group_2 = boston_df[boston_df['age_group'] == 'between 35 and 70 years']['MEDV']\n",
    "age_group_3 = boston_df[boston_df['age_group'] == '70 years and older']['MEDV']\n",
    "age_group = [age_group_1, age_group_2, age_group_3]"
   ]
  },
  {
   "cell_type": "code",
   "execution_count": 12,
   "id": "22017c25-90c0-4684-865f-f78dfa686bb6",
   "metadata": {},
   "outputs": [
    {
     "data": {
      "image/png": "[encoded data removed]",
      "text/plain": [
       "<Figure size 800x500 with 1 Axes>"
      ]
     },
     "metadata": {},
     "output_type": "display_data"
    }
   ],
   "source": [
    "fig = plt.figure(figsize =(8, 5))\n",
    "ax = fig.add_axes([0, 0, 1, 1])\n",
    "bp = ax.boxplot(age_group, boxprops=dict(color='blue'), whiskerprops=dict(color='red'), capprops=dict(color='green'), medianprops=dict(color='orange'), flierprops=dict(markerfacecolor='red', marker='o'))\n",
    "ax.set_xticklabels(['35 years and younger', 'between 35 and 70 years', '70 years and older'])\n",
    "\n",
    "plt.xlabel('Age Group')\n",
    "plt.ylabel('$1000s')\n",
    "plt.suptitle('Median value of owner-occupied homes by AGE variable', size=15, y=1.1)\n",
    "plt.title('Boxplot')\n",
    "plt.show()"
   ]
  },
  {
   "cell_type": "markdown",
   "id": "230a5818-4fe6-45ee-b0ae-0eb78a9b0feb",
   "metadata": {},
   "source": [
    "**Explanation:**  Median value of owner-occupied homes decreases as proportion of owner-occupied units built prior to 1940 increases. There may be a negative correlation."
   ]
  },
  {
   "cell_type": "markdown",
   "id": "82eeb5b9-e9d0-46cb-8841-d15adf0046ba",
   "metadata": {},
   "source": [
    "### 2.4. Provide a **scatter plot** to show the relationship between Nitric oxide concentrations and the proportion of non-retail business acres per town. What can you say about the relationship?"
   ]
  },
  {
   "cell_type": "code",
   "execution_count": 13,
   "id": "e0bc1961-f526-4e59-aea7-057e314eb786",
   "metadata": {},
   "outputs": [
    {
     "data": {
      "image/png": "[encoded data removed]",
      "text/plain": [
       "<Figure size 1000x500 with 1 Axes>"
      ]
     },
     "metadata": {},
     "output_type": "display_data"
    }
   ],
   "source": [
    "fig = plt.figure(figsize =(10, 5))\n",
    "plt.scatter(boston_df['NOX'], boston_df['INDUS'], color='purple')\n",
    "plt.xlabel('Nitric oxides concentration (parts per 10 million)')\n",
    "plt.ylabel('Proportion of Non-Retail Business Acres per Town')\n",
    "plt.suptitle('Nitric oxide concentrations vs the proportion of non-retail business acres per town', size=15)\n",
    "plt.title('Scatter plot')\n",
    "plt.show()"
   ]
  },
  {
   "cell_type": "markdown",
   "id": "c883a24f-e605-47da-841b-bcde280af2d6",
   "metadata": {},
   "source": [
    "**Explanation:** We can see positive relationship between Nitric oxides concentration and Proportion of Non-Retail Business Acres per Town."
   ]
  },
  {
   "cell_type": "markdown",
   "id": "4a60c994-0157-4845-b1ab-1b7d43e59d7f",
   "metadata": {},
   "source": [
    "### 2.5. Create a **histogram** for the pupil to teacher ratio variable"
   ]
  },
  {
   "cell_type": "code",
   "execution_count": 14,
   "id": "39336348-7f41-4157-9593-a4760b58094e",
   "metadata": {},
   "outputs": [
    {
     "data": {
      "image/png": "[encoded data removed]",
      "text/plain": [
       "<Figure size 1000x500 with 1 Axes>"
      ]
     },
     "metadata": {},
     "output_type": "display_data"
    }
   ],
   "source": [
    "fig = plt.figure(figsize =(10, 5))\n",
    "plt.hist(boston_df['PTRATIO'], color='pink')\n",
    "plt.xlabel('Pupil to Teacher Ratio')\n",
    "plt.ylabel('Frequency')\n",
    "plt.suptitle('Pupil to teacher ratio', size=15)\n",
    "plt.title('Histogram')\n",
    "plt.show()"
   ]
  },
  {
   "cell_type": "markdown",
   "id": "2151359c-20ed-44ef-9f99-893245f6186e",
   "metadata": {},
   "source": [
    "**Explanation:** Distribution of the pupil to teacher ratio variable is positively skewed with mode at 21."
   ]
  },
  {
   "cell_type": "markdown",
   "id": "1c94a1f2-bb3b-444e-8156-c2298577389d",
   "metadata": {},
   "source": [
    "## Task 3: Use the appropriate tests to answer the questions provided"
   ]
  },
  {
   "cell_type": "markdown",
   "id": "388931c4-db50-449e-ad11-889ca0c8d4c4",
   "metadata": {},
   "source": [
    "### 3.1. Is there a significant difference in median value of houses bounded by the Charles river or not? (T-test for independent samples)?"
   ]
  },
  {
   "cell_type": "markdown",
   "id": "03cc7298-5a7f-4057-a928-2c0876f0f5f2",
   "metadata": {},
   "source": [
    "We will be using the t-test for independent samples. For the independent t-test, the following assumptions must be met:\n",
    "\n",
    "* One independent, categorical variable with two levels or group\n",
    "* One dependent continuous variable\n",
    "* Independence of the observations. Each subject should belong to only one group. There is no relationship between the observations in each group.\n",
    "* The dependent variable must follow a normal distribution\n",
    "* Assumption of homogeneity of variance"
   ]
  },
  {
   "cell_type": "markdown",
   "id": "7c5e254f-2dc4-452a-a3e4-1e23b42c7934",
   "metadata": {},
   "source": [
    "Hypothesis:\n",
    "\n",
    "*   $H_0: µ_1 = µ_2$ (There is no difference in median value of houses bounded by the Charles river and not)\n",
    "*   $H_1: µ_1 ≠ µ_2$ (There is difference in median value of houses bounded by the Charles river and not)"
   ]
  },
  {
   "cell_type": "markdown",
   "id": "612867d8-ce8b-45f6-aa21-dae5d46f4b49",
   "metadata": {},
   "source": [
    "We can use the Levene's Test in Python to check test significance:"
   ]
  },
  {
   "cell_type": "code",
   "execution_count": 15,
   "id": "c2fff632-cc00-451c-91d0-4c70a25fb37d",
   "metadata": {},
   "outputs": [
    {
     "data": {
      "text/plain": [
       "LeveneResult(statistic=8.75190489604598, pvalue=0.003238119367639829)"
      ]
     },
     "execution_count": 15,
     "metadata": {},
     "output_type": "execute_result"
    }
   ],
   "source": [
    "scipy.stats.levene(boston_df[boston_df['CHAS'] == 0]['MEDV'],\n",
    "                   boston_df[boston_df['CHAS'] == 1]['MEDV'], center='mean')"
   ]
  },
  {
   "cell_type": "markdown",
   "id": "60bfdf6c-3e42-4d1f-ac33-064cfa4df3f7",
   "metadata": {},
   "source": [
    "Since the p-value is less than 0.05, the variances are not equal. For the purposes of this exercise, we will assume equality of variances and run t-test:"
   ]
  },
  {
   "cell_type": "code",
   "execution_count": 16,
   "id": "b222faa4-1bf2-4d8c-b342-12bc188e6539",
   "metadata": {},
   "outputs": [
    {
     "data": {
      "text/plain": [
       "TtestResult(statistic=-3.996437466090509, pvalue=7.390623170519905e-05, df=504.0)"
      ]
     },
     "execution_count": 16,
     "metadata": {},
     "output_type": "execute_result"
    }
   ],
   "source": [
    "bounded_0 = boston_df[boston_df['CHAS'] == 0]['MEDV']\n",
    "bounded_1 = boston_df[boston_df['CHAS'] == 1]['MEDV']\n",
    "scipy.stats.ttest_ind(bounded_0, bounded_1, equal_var = True)"
   ]
  },
  {
   "cell_type": "markdown",
   "id": "c52f0a0a-8f56-4855-a356-179396a79858",
   "metadata": {},
   "source": [
    "**Conclusion:** Since the p-value is less than alpha value 0.05, we reject the null hypothesis as there is enough proof that there is a statistical difference in median value of houses based on Charles river bounding."
   ]
  },
  {
   "cell_type": "markdown",
   "id": "9595b95f-9625-4a24-99f9-eeb67ac11f7e",
   "metadata": {},
   "source": [
    "### 3.2. Is there a difference in Median values of houses (MEDV) for each proportion of owner occupied units built prior to 1940 (AGE)? (ANOVA)?"
   ]
  },
  {
   "cell_type": "markdown",
   "id": "38dc8aa1-9a1d-4dcb-9a95-4efc159ca4ab",
   "metadata": {},
   "source": [
    "Hypothesis:\n",
    "\n",
    "*   $H_0: µ_1 = µ_2 = µ_3$ (There is no difference in median values of houses for each proportion of owner occupied units built prior to 1940 (AGE))\n",
    "*   $H_1:$ At least one of the means differ (There is a difference in median values of houses for each proportion of owner occupied units built prior to 1940 (AGE))"
   ]
  },
  {
   "cell_type": "markdown",
   "id": "b9e0db56-7433-49ae-b1a2-2b87697b5739",
   "metadata": {},
   "source": [
    "Test for equality of variance:"
   ]
  },
  {
   "cell_type": "code",
   "execution_count": 17,
   "id": "3c538742-a134-462e-baac-ccff009e77ce",
   "metadata": {},
   "outputs": [
    {
     "data": {
      "text/plain": [
       "LeveneResult(statistic=2.7806200293748304, pvalue=0.06295337343259205)"
      ]
     },
     "execution_count": 17,
     "metadata": {},
     "output_type": "execute_result"
    }
   ],
   "source": [
    "scipy.stats.levene(age_group_1, age_group_2, age_group_3, center='mean')"
   ]
  },
  {
   "cell_type": "markdown",
   "id": "970bbc14-11fa-4200-aa3c-547cfa1ba7c3",
   "metadata": {},
   "source": [
    "Since the p-value is greater than 0.05 we can assume equality of variance and run ANOVA analysis:"
   ]
  },
  {
   "cell_type": "code",
   "execution_count": 18,
   "id": "2f75300f-33d1-4a2a-b02b-479a5fe9b374",
   "metadata": {},
   "outputs": [
    {
     "data": {
      "text/plain": [
       "F_onewayResult(statistic=36.40764999196599, pvalue=1.7105011022702984e-15)"
      ]
     },
     "execution_count": 18,
     "metadata": {},
     "output_type": "execute_result"
    }
   ],
   "source": [
    "scipy.stats.f_oneway(age_group_1, age_group_2, age_group_3)"
   ]
  },
  {
   "cell_type": "markdown",
   "id": "cf4aa365-c4c0-4993-bef9-b41e6857465c",
   "metadata": {},
   "source": [
    "**Conclusion:** Since the p-value is less than 0.05, we reject the null hypothesiss as there is enough proof that there is a statistical difference in median value of houses for each proportion of owner occupied units built prior to 1940."
   ]
  },
  {
   "cell_type": "markdown",
   "id": "479daa6a-c91f-484b-8d2e-33850c1aada6",
   "metadata": {},
   "source": [
    "### 3.3.Can we conclude that there is no relationship between Nitric oxide concentrations and proportion of non-retail business acres per town? (Pearson Correlation)?"
   ]
  },
  {
   "cell_type": "markdown",
   "id": "286187bc-193d-430f-adcc-0a210b8c6249",
   "metadata": {},
   "source": [
    "Hypothesis:\n",
    "\n",
    "* $H_0:$ Nitric oxide concentrations is not correlated with proportion of non-retail business acres per town\n",
    "* $H_1:$ Nitric oxide concentrations is correlated with proportion of non-retail business acres per town\n",
    "\n",
    "Since they are both continuous variables we can use a pearson correlation test:"
   ]
  },
  {
   "cell_type": "code",
   "execution_count": 19,
   "id": "1c28a522-480f-4767-94a7-e8842e76a963",
   "metadata": {},
   "outputs": [
    {
     "data": {
      "text/plain": [
       "PearsonRResult(statistic=0.7636514469209162, pvalue=7.913361061232958e-98)"
      ]
     },
     "execution_count": 19,
     "metadata": {},
     "output_type": "execute_result"
    }
   ],
   "source": [
    "scipy.stats.pearsonr(boston_df['NOX'], boston_df['INDUS'])"
   ]
  },
  {
   "cell_type": "markdown",
   "id": "b0e69234-0bd6-41e7-a1dd-eb46690bd434",
   "metadata": {},
   "source": [
    "**Conclusion:** Since the p-value is less than 0.05, we reject the null hypothesis as there is enough proof that there is a relationship between Nitric oxide concentrations and proportion of non-retail business acres per town."
   ]
  },
  {
   "cell_type": "markdown",
   "id": "b1bf28f6-2078-425c-aad4-4e62524903b0",
   "metadata": {},
   "source": [
    "### 3.4. What is the impact of an additional weighted distance  to the five Boston employment centres on the median value of owner occupied homes? (Regression analysis)?"
   ]
  },
  {
   "cell_type": "markdown",
   "id": "674d8487-5934-4a15-86d9-d5bb49e8d068",
   "metadata": {},
   "source": [
    "Hypothesis:\n",
    "\n",
    "* $H_0: β_1 = 0$ (Weighted distance to five Boston employment centres has no impact on the median value of owner occupied homes)\n",
    "* $H_1: β_1 ≠ 0$ (Weighted distance to five Boston employment centres has impact on the median value of owner occupied homes)"
   ]
  },
  {
   "cell_type": "markdown",
   "id": "566e55c3-f8af-48de-a74f-15dc723c3565",
   "metadata": {},
   "source": [
    "We run Ordinary Least Squares regression analysis:"
   ]
  },
  {
   "cell_type": "code",
   "execution_count": 20,
   "id": "b5446418-43f6-4054-93ff-24347b4425b1",
   "metadata": {},
   "outputs": [
    {
     "data": {
      "text/html": [
       "<table class=\"simpletable\">\n",
       "<caption>OLS Regression Results</caption>\n",
       "<tr>\n",
       "  <th>Dep. Variable:</th>          <td>MEDV</td>       <th>  R-squared:         </th> <td>   0.062</td>\n",
       "</tr>\n",
       "<tr>\n",
       "  <th>Model:</th>                   <td>OLS</td>       <th>  Adj. R-squared:    </th> <td>   0.061</td>\n",
       "</tr>\n",
       "<tr>\n",
       "  <th>Method:</th>             <td>Least Squares</td>  <th>  F-statistic:       </th> <td>   33.58</td>\n",
       "</tr>\n",
       "<tr>\n",
       "  <th>Date:</th>             <td>Tue, 31 Dec 2024</td> <th>  Prob (F-statistic):</th> <td>1.21e-08</td>\n",
       "</tr>\n",
       "<tr>\n",
       "  <th>Time:</th>                 <td>14:01:27</td>     <th>  Log-Likelihood:    </th> <td> -1823.9</td>\n",
       "</tr>\n",
       "<tr>\n",
       "  <th>No. Observations:</th>      <td>   506</td>      <th>  AIC:               </th> <td>   3652.</td>\n",
       "</tr>\n",
       "<tr>\n",
       "  <th>Df Residuals:</th>          <td>   504</td>      <th>  BIC:               </th> <td>   3660.</td>\n",
       "</tr>\n",
       "<tr>\n",
       "  <th>Df Model:</th>              <td>     1</td>      <th>                     </th>     <td> </td>   \n",
       "</tr>\n",
       "<tr>\n",
       "  <th>Covariance Type:</th>      <td>nonrobust</td>    <th>                     </th>     <td> </td>   \n",
       "</tr>\n",
       "</table>\n",
       "<table class=\"simpletable\">\n",
       "<tr>\n",
       "    <td></td>       <th>coef</th>     <th>std err</th>      <th>t</th>      <th>P>|t|</th>  <th>[0.025</th>    <th>0.975]</th>  \n",
       "</tr>\n",
       "<tr>\n",
       "  <th>const</th> <td>   18.3901</td> <td>    0.817</td> <td>   22.499</td> <td> 0.000</td> <td>   16.784</td> <td>   19.996</td>\n",
       "</tr>\n",
       "<tr>\n",
       "  <th>DIS</th>   <td>    1.0916</td> <td>    0.188</td> <td>    5.795</td> <td> 0.000</td> <td>    0.722</td> <td>    1.462</td>\n",
       "</tr>\n",
       "</table>\n",
       "<table class=\"simpletable\">\n",
       "<tr>\n",
       "  <th>Omnibus:</th>       <td>139.779</td> <th>  Durbin-Watson:     </th> <td>   0.570</td>\n",
       "</tr>\n",
       "<tr>\n",
       "  <th>Prob(Omnibus):</th> <td> 0.000</td>  <th>  Jarque-Bera (JB):  </th> <td> 305.104</td>\n",
       "</tr>\n",
       "<tr>\n",
       "  <th>Skew:</th>          <td> 1.466</td>  <th>  Prob(JB):          </th> <td>5.59e-67</td>\n",
       "</tr>\n",
       "<tr>\n",
       "  <th>Kurtosis:</th>      <td> 5.424</td>  <th>  Cond. No.          </th> <td>    9.32</td>\n",
       "</tr>\n",
       "</table><br/><br/>Notes:<br/>[1] Standard Errors assume that the covariance matrix of the errors is correctly specified."
      ],
      "text/latex": [
       "\\begin{center}\n",
       "\\begin{tabular}{lclc}\n",
       "\\toprule\n",
       "\\textbf{Dep. Variable:}    &       MEDV       & \\textbf{  R-squared:         } &     0.062   \\\\\n",
       "\\textbf{Model:}            &       OLS        & \\textbf{  Adj. R-squared:    } &     0.061   \\\\\n",
       "\\textbf{Method:}           &  Least Squares   & \\textbf{  F-statistic:       } &     33.58   \\\\\n",
       "\\textbf{Date:}             & Tue, 31 Dec 2024 & \\textbf{  Prob (F-statistic):} &  1.21e-08   \\\\\n",
       "\\textbf{Time:}             &     14:01:27     & \\textbf{  Log-Likelihood:    } &   -1823.9   \\\\\n",
       "\\textbf{No. Observations:} &         506      & \\textbf{  AIC:               } &     3652.   \\\\\n",
       "\\textbf{Df Residuals:}     &         504      & \\textbf{  BIC:               } &     3660.   \\\\\n",
       "\\textbf{Df Model:}         &           1      & \\textbf{                     } &             \\\\\n",
       "\\textbf{Covariance Type:}  &    nonrobust     & \\textbf{                     } &             \\\\\n",
       "\\bottomrule\n",
       "\\end{tabular}\n",
       "\\begin{tabular}{lcccccc}\n",
       "               & \\textbf{coef} & \\textbf{std err} & \\textbf{t} & \\textbf{P$> |$t$|$} & \\textbf{[0.025} & \\textbf{0.975]}  \\\\\n",
       "\\midrule\n",
       "\\textbf{const} &      18.3901  &        0.817     &    22.499  &         0.000        &       16.784    &       19.996     \\\\\n",
       "\\textbf{DIS}   &       1.0916  &        0.188     &     5.795  &         0.000        &        0.722    &        1.462     \\\\\n",
       "\\bottomrule\n",
       "\\end{tabular}\n",
       "\\begin{tabular}{lclc}\n",
       "\\textbf{Omnibus:}       & 139.779 & \\textbf{  Durbin-Watson:     } &    0.570  \\\\\n",
       "\\textbf{Prob(Omnibus):} &   0.000 & \\textbf{  Jarque-Bera (JB):  } &  305.104  \\\\\n",
       "\\textbf{Skew:}          &   1.466 & \\textbf{  Prob(JB):          } & 5.59e-67  \\\\\n",
       "\\textbf{Kurtosis:}      &   5.424 & \\textbf{  Cond. No.          } &     9.32  \\\\\n",
       "\\bottomrule\n",
       "\\end{tabular}\n",
       "%\\caption{OLS Regression Results}\n",
       "\\end{center}\n",
       "\n",
       "Notes: \\newline\n",
       " [1] Standard Errors assume that the covariance matrix of the errors is correctly specified."
      ],
      "text/plain": [
       "<class 'statsmodels.iolib.summary.Summary'>\n",
       "\"\"\"\n",
       "                            OLS Regression Results                            \n",
       "==============================================================================\n",
       "Dep. Variable:                   MEDV   R-squared:                       0.062\n",
       "Model:                            OLS   Adj. R-squared:                  0.061\n",
       "Method:                 Least Squares   F-statistic:                     33.58\n",
       "Date:                Tue, 31 Dec 2024   Prob (F-statistic):           1.21e-08\n",
       "Time:                        14:01:27   Log-Likelihood:                -1823.9\n",
       "No. Observations:                 506   AIC:                             3652.\n",
       "Df Residuals:                     504   BIC:                             3660.\n",
       "Df Model:                           1                                         \n",
       "Covariance Type:            nonrobust                                         \n",
       "==============================================================================\n",
       "                 coef    std err          t      P>|t|      [0.025      0.975]\n",
       "------------------------------------------------------------------------------\n",
       "const         18.3901      0.817     22.499      0.000      16.784      19.996\n",
       "DIS            1.0916      0.188      5.795      0.000       0.722       1.462\n",
       "==============================================================================\n",
       "Omnibus:                      139.779   Durbin-Watson:                   0.570\n",
       "Prob(Omnibus):                  0.000   Jarque-Bera (JB):              305.104\n",
       "Skew:                           1.466   Prob(JB):                     5.59e-67\n",
       "Kurtosis:                       5.424   Cond. No.                         9.32\n",
       "==============================================================================\n",
       "\n",
       "Notes:\n",
       "[1] Standard Errors assume that the covariance matrix of the errors is correctly specified.\n",
       "\"\"\""
      ]
     },
     "execution_count": 20,
     "metadata": {},
     "output_type": "execute_result"
    }
   ],
   "source": [
    "X = boston_df['DIS']\n",
    "y = boston_df['MEDV']\n",
    "X = sm.add_constant(X)\n",
    "model = sm.OLS(y, X).fit()\n",
    "predictions = model.predict(X)\n",
    "model.summary()"
   ]
  },
  {
   "cell_type": "markdown",
   "id": "4c7f25f3-3270-4604-bbac-dca2b2b5ce18",
   "metadata": {},
   "source": [
    "**Conclusion:** Since the p-value is less than 0.05, we reject the null hypothesis as there is enough proof that there is an impact of an additional weighted distance to the five Boston employment centres on the median value of owner occupied homes. Linear regression coefficient is equal to 1.0916, i.e. additional weighted distance to the five Boston employment centers would increase median value of owner occupied homes by \\\\$1,091.60."
   ]
  }
 ],
 "metadata": {
  "kernelspec": {
   "display_name": "Python 3 (ipykernel)",
   "language": "python",
   "name": "python3"
  },
  "language_info": {
   "codemirror_mode": {
    "name": "ipython",
    "version": 3
   },
   "file_extension": ".py",
   "mimetype": "text/x-python",
   "name": "python",
   "nbconvert_exporter": "python",
   "pygments_lexer": "ipython3",
   "version": "3.12.7"
  }
 },
 "nbformat": 4,
 "nbformat_minor": 5
}
